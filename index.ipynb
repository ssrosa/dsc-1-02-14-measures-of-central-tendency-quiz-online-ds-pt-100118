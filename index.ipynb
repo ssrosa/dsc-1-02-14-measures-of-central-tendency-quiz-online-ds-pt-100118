{
 "cells": [
  {
   "cell_type": "markdown",
   "metadata": {},
   "source": [
    "# Measures of Central Tendency - Quiz\n",
    "\n",
    "## Objectives\n",
    "You will be able to:\n",
    "* Understand and describe the significance of measuring central tendency of continuous data\n",
    "* Understand the formula and intuition behind the mean, median, mode and modal class\n",
    "* Compare mean-median-mode, along with histograms to explain the central tendency of given data"
   ]
  },
  {
   "cell_type": "markdown",
   "metadata": {},
   "source": [
    "### Exercise 1\n",
    "Calculate the mean, median and mode for this data set: \n",
    "```\n",
    "19, 18, 21, 16, 15, 17, 20, 18\n",
    "```\n",
    "While comparing the results of three measures, comment about this distribution. "
   ]
  },
  {
   "cell_type": "code",
   "execution_count": 15,
   "metadata": {},
   "outputs": [],
   "source": [
    "# Your answer here\n",
    "numbers = [19, 18, 21, 16, 15, 17, 20, 18]\n",
    "mean = None\n",
    "median = None\n",
    "mode = None"
   ]
  },
  {
   "cell_type": "code",
   "execution_count": 4,
   "metadata": {},
   "outputs": [
    {
     "data": {
      "text/plain": [
       "18.0"
      ]
     },
     "execution_count": 4,
     "metadata": {},
     "output_type": "execute_result"
    }
   ],
   "source": [
    "def find_mean(numbers):\n",
    "    all = sum(numbers)\n",
    "    mean = all / len(numbers)\n",
    "    return mean\n",
    "\n",
    "find_mean(numbers)"
   ]
  },
  {
   "cell_type": "code",
   "execution_count": 16,
   "metadata": {},
   "outputs": [
    {
     "data": {
      "text/plain": [
       "18.0"
      ]
     },
     "execution_count": 16,
     "metadata": {},
     "output_type": "execute_result"
    }
   ],
   "source": [
    "def find_median(numbers):\n",
    "    sorted_numbers = sorted(numbers)\n",
    "    no_of_numbers = len(sorted_numbers)\n",
    "    median = None\n",
    "    if no_of_numbers % 2 == 0:\n",
    "        medians = [sorted_numbers[int((no_of_numbers / 2) - 1)], sorted_numbers[int(no_of_numbers / 2)]]\n",
    "        median = find_mean(medians)\n",
    "    elif no_of_numbers % 2 == 1:\n",
    "        median = sorted_numbers[int((no_of_numbers / 2) - 1)]\n",
    "    return median\n",
    "find_median(numbers)"
   ]
  },
  {
   "cell_type": "code",
   "execution_count": 45,
   "metadata": {},
   "outputs": [
    {
     "data": {
      "text/plain": [
       "18"
      ]
     },
     "execution_count": 45,
     "metadata": {},
     "output_type": "execute_result"
    }
   ],
   "source": [
    "def only_one_mode(frequencies):\n",
    "    if frequencies[-1] != frequencies[-2]:\n",
    "        return True\n",
    "    else:\n",
    "        return False\n",
    "    # What to do if more than one mode? Left blank for now.\n",
    "\n",
    "def find_mode(numbers):\n",
    "    mode = None\n",
    "    unique_nums = list(set(numbers))\n",
    "    nos_dict = {}.fromkeys(unique_nums, 0) # dict to keep count of frequency of each number in list of numbers\n",
    "    \n",
    "    for num in unique_nums: #if this number in the list of unique numbers...\n",
    "        for numb in numbers: \n",
    "            if numb != num:\n",
    "                continue\n",
    "            elif numb == num:  #... equals this number in the list of all numbers\n",
    "                nos_dict[num] += 1 # then add a point to the key repping this number in the dict\n",
    "    \n",
    "    sorted_nos = sorted(nos_dict, key=lambda x: nos_dict[x])\n",
    "    \n",
    "    frequencies = list(nos_dict.values())\n",
    "    sorted_frequencies = sorted(frequencies)\n",
    "\n",
    "    if only_one_mode(sorted_frequencies):  #only_one_mode can be built out to allow for multiple modes\n",
    "        mode = sorted_nos[-1]\n",
    "    \n",
    "    return mode\n",
    "#for testing:\n",
    "#    return only_one_mode(sorted_frequencies)\n",
    "#    return mode\n",
    "#    return unique_nos\n",
    "#    return nos_dict\n",
    "#    return sorted_nos_dict\n",
    "#   return frequencies\n",
    "#    return sorted_frequencies\n",
    "\n",
    "\n",
    "find_mode(numbers)"
   ]
  },
  {
   "cell_type": "code",
   "execution_count": 47,
   "metadata": {},
   "outputs": [
    {
     "name": "stdout",
     "output_type": "stream",
     "text": [
      "mean: 18.0\n",
      "median: 18.0\n",
      "mode: 18\n"
     ]
    }
   ],
   "source": [
    "print(\"mean: \" + str(find_mean(numbers)))\n",
    "print(\"median: \" + str(find_median(numbers)))\n",
    "print(\"mode: \" + str(find_mode(numbers)))"
   ]
  },
  {
   "cell_type": "markdown",
   "metadata": {},
   "source": [
    "### Exercise 2\n",
    "\n",
    "Calculate the mean, median and mode for given distribution and state which of these measures does not describe the \"middle\" of this data set? and why ?\n",
    "```\n",
    "100, 99, 97, 97, 96, 98, 95, 72\n",
    "```"
   ]
  },
  {
   "cell_type": "code",
   "execution_count": 48,
   "metadata": {},
   "outputs": [
    {
     "name": "stdout",
     "output_type": "stream",
     "text": [
      "mean: 94.25\n",
      "median: 97.0\n",
      "mode: 97\n"
     ]
    }
   ],
   "source": [
    "# Your answer here \n",
    "more_nums = [100, 99, 97, 97, 96, 98, 95, 72]\n",
    "print(\"mean: \" + str(find_mean(more_nums)))\n",
    "print(\"median: \" + str(find_median(more_nums)))\n",
    "print(\"mode: \" + str(find_mode(more_nums)))"
   ]
  },
  {
   "cell_type": "code",
   "execution_count": 49,
   "metadata": {},
   "outputs": [],
   "source": [
    "#The mean doesn't describe the \"middle\" because the outlier, 72, pushes down the mean well below the median and mode."
   ]
  },
  {
   "cell_type": "markdown",
   "metadata": {},
   "source": [
    "### Exercise 3\n",
    "On the first three days of his bookshop opening, Joe sold 15, 18, and 16 books (He initially hoped that he would sell 17 books every day).  How many books does he need to sell on the next day to have a mean sale of 17?"
   ]
  },
  {
   "cell_type": "code",
   "execution_count": 50,
   "metadata": {},
   "outputs": [
    {
     "data": {
      "text/plain": [
       "19"
      ]
     },
     "execution_count": 50,
     "metadata": {},
     "output_type": "execute_result"
    }
   ],
   "source": [
    "19"
   ]
  },
  {
   "cell_type": "markdown",
   "metadata": {},
   "source": [
    "### Exercise 4\n",
    "The histograms show the amount of time (hours per day) spent on Facebook by 46 middle school girls and 40 middle school boys from a school in San Francisco. A total of 50 boys and 50 girls took the survey, 4 girls and 10 boys did not use Facebook at all. \n",
    "Each is graphed with a bin width of 0.25 hours.\n",
    "\n",
    "![](boys.png)\n",
    "![](girls.png)\n",
    "\n",
    "Looking at these histograms, answer following questions. \n",
    "\n",
    "*Hint: For most parts, you will have to figure out the location of required bins and count the frequencies. *\n",
    "\n",
    "#### How many boys spend more than 1.5 hours/day on Facebook?\n"
   ]
  },
  {
   "cell_type": "code",
   "execution_count": 51,
   "metadata": {},
   "outputs": [
    {
     "data": {
      "text/plain": [
       "8"
      ]
     },
     "execution_count": 51,
     "metadata": {},
     "output_type": "execute_result"
    }
   ],
   "source": [
    "8"
   ]
  },
  {
   "cell_type": "markdown",
   "metadata": {},
   "source": [
    "#### Compare the percentage of boys and girls that spend more than zero but less than 1 hour/day on Facebook."
   ]
  },
  {
   "cell_type": "code",
   "execution_count": 54,
   "metadata": {},
   "outputs": [
    {
     "name": "stdout",
     "output_type": "stream",
     "text": [
      "21.73% of girls, 50% of boys\n"
     ]
    }
   ],
   "source": [
    "# Your answer here \n",
    "#10 out of 46 girls 21.73%\n",
    "#20 out of 40 boys 50%\n",
    "print(\"21.73% of girls, 50% of boys\")"
   ]
  },
  {
   "cell_type": "markdown",
   "metadata": {},
   "source": [
    "#### Find the bin where the median of the boys' data set lies."
   ]
  },
  {
   "cell_type": "code",
   "execution_count": 59,
   "metadata": {},
   "outputs": [
    {
     "name": "stdout",
     "output_type": "stream",
     "text": [
      "7 boys who used facebook for 1 hour to 1.25 hours\n"
     ]
    }
   ],
   "source": [
    "# Your answer here \n",
    "boys = [0.25, 0.5, 0.5, 0.5, 0.5, 0.5, 0.5, 0.75, 0.75, 0.75, 0.75, 0.75, 0.75, 0.75, 0.75, 0.75, 1.0, 1.0, 1.0, 1.0, 1.25, 1.25, 1.25, 1.25, 1.25, 1.25, 1.25, 1.5, 1.5, 1.5, 1.5, 1.5, 1.75, 1.75, 1.75, 1.75, 1.75, 2.0, 2.0, 2.0]\n",
    "find_median(boys)\n",
    "#median is 1.125, so it lays in between the 1 hour bin and the 1.25 hour bin\n",
    "print(\"7 boys who used facebook for 1 hour to 1.25 hours\")"
   ]
  },
  {
   "cell_type": "code",
   "execution_count": null,
   "metadata": {},
   "outputs": [],
   "source": []
  },
  {
   "cell_type": "markdown",
   "metadata": {},
   "source": [
    "#### In terms of Facebook usage times based on given data, what can you conclude about usage habits of boys and girls?"
   ]
  },
  {
   "cell_type": "code",
   "execution_count": 12,
   "metadata": {},
   "outputs": [],
   "source": [
    "# Your answer here \n",
    "print(\"Boys' usage habits were more consistent from boy to boy. A few girls used facebook for many more hours than most girls did.\")"
   ]
  }
 ],
 "metadata": {
  "kernelspec": {
   "display_name": "Python 3",
   "language": "python",
   "name": "python3"
  },
  "language_info": {
   "codemirror_mode": {
    "name": "ipython",
    "version": 3
   },
   "file_extension": ".py",
   "mimetype": "text/x-python",
   "name": "python",
   "nbconvert_exporter": "python",
   "pygments_lexer": "ipython3",
   "version": "3.7.0"
  }
 },
 "nbformat": 4,
 "nbformat_minor": 2
}
